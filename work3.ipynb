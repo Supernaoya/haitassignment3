{
 "cells": [
  {
   "cell_type": "code",
   "execution_count": 1,
   "metadata": {},
   "outputs": [
    {
     "name": "stdout",
     "output_type": "stream",
     "text": [
      "Requirement already up-to-date: chainer==2.0 in /Users/tosakanaoya/.pyenv/versions/anaconda3-5.0.0/lib/python3.6/site-packages\n",
      "Requirement already up-to-date: filelock in /Users/tosakanaoya/.pyenv/versions/anaconda3-5.0.0/lib/python3.6/site-packages (from chainer==2.0)\n",
      "Requirement already up-to-date: nose in /Users/tosakanaoya/.pyenv/versions/anaconda3-5.0.0/lib/python3.6/site-packages (from chainer==2.0)\n",
      "Requirement already up-to-date: protobuf>=2.6.0 in /Users/tosakanaoya/.pyenv/versions/anaconda3-5.0.0/lib/python3.6/site-packages (from chainer==2.0)\n",
      "Requirement already up-to-date: six>=1.9.0 in /Users/tosakanaoya/.pyenv/versions/anaconda3-5.0.0/lib/python3.6/site-packages (from chainer==2.0)\n",
      "Requirement already up-to-date: numpy>=1.9.0 in /Users/tosakanaoya/.pyenv/versions/anaconda3-5.0.0/lib/python3.6/site-packages (from chainer==2.0)\n",
      "Requirement already up-to-date: setuptools in /Users/tosakanaoya/.pyenv/versions/anaconda3-5.0.0/lib/python3.6/site-packages (from protobuf>=2.6.0->chainer==2.0)\n"
     ]
    }
   ],
   "source": [
    "# # Chainerのインストール\n",
    "# # version 2.0を使用\n",
    "! pip install -U chainer==2.0"
   ]
  },
  {
   "cell_type": "code",
   "execution_count": 12,
   "metadata": {
    "collapsed": true
   },
   "outputs": [],
   "source": [
    "# 必要なライブラリを読込\n",
    "import numpy as np\n",
    "import matplotlib.pyplot as plt\n",
    "% matplotlib inline\n",
    "\n",
    "import chainer\n",
    "import chainer.functions as F           # パラメータを含まない関数を収録したパッケージ\n",
    "import chainer.links as L               # パラメータを含む関数を収録したパッケージ\n",
    "from chainer import computational_graph # グラフを出力するパッケージ\n",
    "from chainer import serializers         # モデルの保存や読込を行うパッケージ"
   ]
  },
  {
   "cell_type": "code",
   "execution_count": 13,
   "metadata": {},
   "outputs": [
    {
     "name": "stdout",
     "output_type": "stream",
     "text": [
      "[Errno 2] No such file or directory: 'images'\n",
      "/Users/tosakanaoya/haitassignment3/images\n"
     ]
    }
   ],
   "source": [
    "cd images"
   ]
  },
  {
   "cell_type": "code",
   "execution_count": 14,
   "metadata": {
    "scrolled": true
   },
   "outputs": [
    {
     "ename": "NameError",
     "evalue": "name 'images' is not defined",
     "output_type": "error",
     "traceback": [
      "\u001b[0;31m---------------------------------------------------------------------------\u001b[0m",
      "\u001b[0;31mNameError\u001b[0m                                 Traceback (most recent call last)",
      "\u001b[0;32m<ipython-input-14-8c6d868d5fb2>\u001b[0m in \u001b[0;36m<module>\u001b[0;34m()\u001b[0m\n\u001b[1;32m      4\u001b[0m     \u001b[0mplt\u001b[0m\u001b[0;34m.\u001b[0m\u001b[0mxticks\u001b[0m\u001b[0;34m(\u001b[0m\u001b[0;34m[\u001b[0m\u001b[0;34m]\u001b[0m\u001b[0;34m)\u001b[0m\u001b[0;34m\u001b[0m\u001b[0m\n\u001b[1;32m      5\u001b[0m     \u001b[0mplt\u001b[0m\u001b[0;34m.\u001b[0m\u001b[0myticks\u001b[0m\u001b[0;34m(\u001b[0m\u001b[0;34m[\u001b[0m\u001b[0;34m]\u001b[0m\u001b[0;34m)\u001b[0m\u001b[0;34m\u001b[0m\u001b[0m\n\u001b[0;32m----> 6\u001b[0;31m     \u001b[0mplt\u001b[0m\u001b[0;34m.\u001b[0m\u001b[0mimshow\u001b[0m\u001b[0;34m(\u001b[0m\u001b[0mimages\u001b[0m\u001b[0;34m[\u001b[0m\u001b[0mj\u001b[0m\u001b[0;34m]\u001b[0m\u001b[0;34m,\u001b[0m \u001b[0;34m\"gray\"\u001b[0m\u001b[0;34m)\u001b[0m\u001b[0;34m\u001b[0m\u001b[0m\n\u001b[0m",
      "\u001b[0;31mNameError\u001b[0m: name 'images' is not defined"
     ]
    },
    {
     "data": {
      "image/png": "[encoded data removed]",
      "text/plain": [
       "<matplotlib.figure.Figure at 0x10ce1f9b0>"
      ]
     },
     "metadata": {},
     "output_type": "display_data"
    }
   ],
   "source": [
    "lst = [0,316,905,1001,1124,1158,1269,1319,1449, 1503]#同じラベルの画像のインデックス\n",
    "for i,j in enumerate(lst):\n",
    "    plt.subplot(2,5,i+1)\n",
    "    plt.xticks([])\n",
    "    plt.yticks([])\n",
    "    plt.imshow(images[j], \"gray\")"
   ]
  },
  {
   "cell_type": "code",
   "execution_count": null,
   "metadata": {
    "collapsed": true
   },
   "outputs": [],
   "source": []
  }
 ],
 "metadata": {
  "kernelspec": {
   "display_name": "Python 3",
   "language": "python",
   "name": "python3"
  },
  "language_info": {
   "codemirror_mode": {
    "name": "ipython",
    "version": 3
   },
   "file_extension": ".py",
   "mimetype": "text/x-python",
   "name": "python",
   "nbconvert_exporter": "python",
   "pygments_lexer": "ipython3",
   "version": "3.6.2"
  }
 },
 "nbformat": 4,
 "nbformat_minor": 2
}
