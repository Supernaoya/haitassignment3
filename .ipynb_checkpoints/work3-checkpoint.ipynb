{
 "cells": [
  {
   "cell_type": "code",
   "execution_count": 1,
   "metadata": {},
   "outputs": [
    {
     "name": "stdout",
     "output_type": "stream",
     "text": [
      "Requirement already up-to-date: chainer==2.0 in /Users/tosakanaoya/.pyenv/versions/anaconda3-5.0.0/lib/python3.6/site-packages\n",
      "Requirement already up-to-date: six>=1.9.0 in /Users/tosakanaoya/.pyenv/versions/anaconda3-5.0.0/lib/python3.6/site-packages (from chainer==2.0)\n",
      "Requirement already up-to-date: nose in /Users/tosakanaoya/.pyenv/versions/anaconda3-5.0.0/lib/python3.6/site-packages (from chainer==2.0)\n",
      "Requirement already up-to-date: protobuf>=2.6.0 in /Users/tosakanaoya/.pyenv/versions/anaconda3-5.0.0/lib/python3.6/site-packages (from chainer==2.0)\n",
      "Requirement already up-to-date: numpy>=1.9.0 in /Users/tosakanaoya/.pyenv/versions/anaconda3-5.0.0/lib/python3.6/site-packages (from chainer==2.0)\n",
      "Requirement already up-to-date: filelock in /Users/tosakanaoya/.pyenv/versions/anaconda3-5.0.0/lib/python3.6/site-packages (from chainer==2.0)\n",
      "Requirement already up-to-date: setuptools in /Users/tosakanaoya/.pyenv/versions/anaconda3-5.0.0/lib/python3.6/site-packages (from protobuf>=2.6.0->chainer==2.0)\n"
     ]
    }
   ],
   "source": [
    "# # Chainerのインストール\n",
    "# # version 2.0を使用\n",
    "! pip install -U chainer==2.0"
   ]
  },
  {
   "cell_type": "code",
   "execution_count": 2,
   "metadata": {
    "collapsed": true
   },
   "outputs": [],
   "source": [
    "# 必要なライブラリを読込\n",
    "import numpy as np\n",
    "import matplotlib.pyplot as plt\n",
    "% matplotlib inline\n",
    "\n",
    "import chainer\n",
    "import chainer.functions as F           # パラメータを含まない関数を収録したパッケージ\n",
    "import chainer.links as L               # パラメータを含む関数を収録したパッケージ\n",
    "from chainer import computational_graph # グラフを出力するパッケージ\n",
    "from chainer import serializers         # モデルの保存や読込を行うパッケージ"
   ]
  },
  {
   "cell_type": "code",
   "execution_count": null,
   "metadata": {
    "collapsed": true
   },
   "outputs": [],
   "source": []
  }
 ],
 "metadata": {
  "kernelspec": {
   "display_name": "Python 3",
   "language": "python",
   "name": "python3"
  },
  "language_info": {
   "codemirror_mode": {
    "name": "ipython",
    "version": 3
   },
   "file_extension": ".py",
   "mimetype": "text/x-python",
   "name": "python",
   "nbconvert_exporter": "python",
   "pygments_lexer": "ipython3",
   "version": "3.6.2"
  }
 },
 "nbformat": 4,
 "nbformat_minor": 2
}
